{
  "nbformat": 4,
  "nbformat_minor": 0,
  "metadata": {
    "colab": {
      "name": "003_머신러닝_선형회귀모델.ipynb",
      "provenance": [],
      "authorship_tag": "ABX9TyOPsAnxfUopC5cnwmun2vWG",
      "include_colab_link": true
    },
    "kernelspec": {
      "name": "python3",
      "display_name": "Python 3"
    },
    "language_info": {
      "name": "python"
    }
  },
  "cells": [
    {
      "cell_type": "markdown",
      "metadata": {
        "id": "view-in-github",
        "colab_type": "text"
      },
      "source": [
        "<a href=\"https://colab.research.google.com/github/hanYijin/python_Machine_learning_study/blob/main/003_%EB%A8%B8%EC%8B%A0%EB%9F%AC%EB%8B%9D_%EC%84%A0%ED%98%95%ED%9A%8C%EA%B7%80%EB%AA%A8%EB%8D%B8.ipynb\" target=\"_parent\"><img src=\"https://colab.research.google.com/assets/colab-badge.svg\" alt=\"Open In Colab\"/></a>"
      ]
    },
    {
      "cell_type": "code",
      "metadata": {
        "id": "_lFunt8hT3FX"
      },
      "source": [
        "import numpy as np\n",
        "\n",
        "perch_length = np.array(\n",
        "    [8.4, 13.7, 15.0, 16.2, 17.4, 18.0, 18.7, 19.0, 19.6, 20.0, \n",
        "     21.0, 21.0, 21.0, 21.3, 22.0, 22.0, 22.0, 22.0, 22.0, 22.5, \n",
        "     22.5, 22.7, 23.0, 23.5, 24.0, 24.0, 24.6, 25.0, 25.6, 26.5, \n",
        "     27.3, 27.5, 27.5, 27.5, 28.0, 28.7, 30.0, 32.8, 34.5, 35.0, \n",
        "     36.5, 36.0, 37.0, 37.0, 39.0, 39.0, 39.0, 40.0, 40.0, 40.0, \n",
        "     40.0, 42.0, 43.0, 43.0, 43.5, 44.0]\n",
        "     )\n",
        "perch_weight = np.array(\n",
        "    [5.9, 32.0, 40.0, 51.5, 70.0, 100.0, 78.0, 80.0, 85.0, 85.0, \n",
        "     110.0, 115.0, 125.0, 130.0, 120.0, 120.0, 130.0, 135.0, 110.0, \n",
        "     130.0, 150.0, 145.0, 150.0, 170.0, 225.0, 145.0, 188.0, 180.0, \n",
        "     197.0, 218.0, 300.0, 260.0, 265.0, 250.0, 250.0, 300.0, 320.0, \n",
        "     514.0, 556.0, 840.0, 685.0, 700.0, 700.0, 690.0, 900.0, 650.0, \n",
        "     820.0, 850.0, 900.0, 1015.0, 820.0, 1100.0, 1000.0, 1100.0, \n",
        "     1000.0, 1000.0]\n",
        "     )"
      ],
      "execution_count": 2,
      "outputs": []
    },
    {
      "cell_type": "code",
      "metadata": {
        "id": "UI1tY63eXeAL"
      },
      "source": [
        "from sklearn.model_selection import train_test_split\n",
        "\n",
        "# 훈련 세트와 테스트 세트로 나눕니다\n",
        "train_input, test_input, train_target, test_target = train_test_split(\n",
        "    perch_length, perch_weight, random_state=42)\n",
        "# 훈련 세트와 테스트 세트를 2차원 배열로 바꿉니다\n",
        "train_input = train_input.reshape(-1, 1)\n",
        "test_input = test_input.reshape(-1, 1)"
      ],
      "execution_count": 3,
      "outputs": []
    },
    {
      "cell_type": "code",
      "metadata": {
        "colab": {
          "base_uri": "https://localhost:8080/"
        },
        "id": "ng_pxtMmXkSW",
        "outputId": "88a5d5b8-dac5-47bc-e317-71f996559a04"
      },
      "source": [
        "from sklearn.neighbors import KNeighborsRegressor\n",
        "\n",
        "knr = KNeighborsRegressor(n_neighbors=3)\n",
        "# k-최근접 이웃 회귀 모델을 훈련합니다\n",
        "knr.fit(train_input, train_target)"
      ],
      "execution_count": 4,
      "outputs": [
        {
          "output_type": "execute_result",
          "data": {
            "text/plain": [
              "KNeighborsRegressor(algorithm='auto', leaf_size=30, metric='minkowski',\n",
              "                    metric_params=None, n_jobs=None, n_neighbors=3, p=2,\n",
              "                    weights='uniform')"
            ]
          },
          "metadata": {
            "tags": []
          },
          "execution_count": 4
        }
      ]
    },
    {
      "cell_type": "code",
      "metadata": {
        "colab": {
          "base_uri": "https://localhost:8080/"
        },
        "id": "7Jhs2OGoXmpQ",
        "outputId": "7bce187a-f814-4e52-c68e-d5244bd13101"
      },
      "source": [
        "#길이가 50인 농어의 무게 예측\n",
        "print(knr.predict([[50]]))"
      ],
      "execution_count": 5,
      "outputs": [
        {
          "output_type": "stream",
          "text": [
            "[1033.33333333]\n"
          ],
          "name": "stdout"
        }
      ]
    },
    {
      "cell_type": "markdown",
      "metadata": {
        "id": "vSjDLbTeYaIv"
      },
      "source": [
        "**k-최근접 이웃 회귀의 한계**"
      ]
    },
    {
      "cell_type": "code",
      "metadata": {
        "colab": {
          "base_uri": "https://localhost:8080/",
          "height": 279
        },
        "id": "g6cHQoDgYf5q",
        "outputId": "f5e8f4bb-c3e6-4c80-a589-575319f13d66"
      },
      "source": [
        "import matplotlib.pyplot as plt\n",
        "# 50cm 농어의 이웃을 구합니다\n",
        "distances, indexes = knr.kneighbors([[50]])\n",
        "\n",
        "# 훈련 세트의 산점도를 그립니다\n",
        "plt.scatter(train_input, train_target)\n",
        "# 훈련 세트 중에서 이웃 샘플만 다시 그립니다\n",
        "plt.scatter(train_input[indexes], train_target[indexes], marker='D')\n",
        "# 50cm 농어 데이터\n",
        "plt.scatter(50, 1033, marker='^')\n",
        "plt.xlabel('length')\n",
        "plt.ylabel('weight')\n",
        "plt.show()"
      ],
      "execution_count": 6,
      "outputs": [
        {
          "output_type": "display_data",
          "data": {
            "image/png": "[encoded data removed]",
            "text/plain": [
              "<Figure size 432x288 with 1 Axes>"
            ]
          },
          "metadata": {
            "tags": [],
            "needs_background": "light"
          }
        }
      ]
    },
    {
      "cell_type": "code",
      "metadata": {
        "colab": {
          "base_uri": "https://localhost:8080/"
        },
        "id": "qquzM7TdY1Ud",
        "outputId": "b9022ee7-e38a-41e0-93b2-ebcce4c325f7"
      },
      "source": [
        "print(np.mean(train_target[indexes]))"
      ],
      "execution_count": 8,
      "outputs": [
        {
          "output_type": "stream",
          "text": [
            "1033.3333333333333\n"
          ],
          "name": "stdout"
        }
      ]
    },
    {
      "cell_type": "code",
      "metadata": {
        "colab": {
          "base_uri": "https://localhost:8080/"
        },
        "id": "8d2G7Uf9Y517",
        "outputId": "0ddf58f2-3a13-4e73-b2e9-560242dd0f29"
      },
      "source": [
        "print(knr.predict([[100]]))"
      ],
      "execution_count": 9,
      "outputs": [
        {
          "output_type": "stream",
          "text": [
            "[1033.33333333]\n"
          ],
          "name": "stdout"
        }
      ]
    },
    {
      "cell_type": "code",
      "metadata": {
        "colab": {
          "base_uri": "https://localhost:8080/",
          "height": 279
        },
        "id": "iQslHCFWY7QR",
        "outputId": "067ef32e-bde0-45a1-e58b-1bf259c27677"
      },
      "source": [
        "# 100cm 농어의 이웃을 구합니다\n",
        "distances, indexes = knr.kneighbors([[100]])\n",
        "\n",
        "# 훈련 세트의 산점도를 그립니다\u001f\n",
        "plt.scatter(train_input, train_target)\n",
        "# 훈련 세트 중에서 이웃 샘플만 다시 그립니다\u001f\n",
        "plt.scatter(train_input[indexes], train_target[indexes], marker='D')\n",
        "# 100cm 농어 데이터\n",
        "plt.scatter(100, 1033, marker='^')\n",
        "plt.xlabel('length')\n",
        "plt.ylabel('weight')\n",
        "plt.show()"
      ],
      "execution_count": 7,
      "outputs": [
        {
          "output_type": "display_data",
          "data": {
            "image/png": "[encoded data removed]",
            "text/plain": [
              "<Figure size 432x288 with 1 Axes>"
            ]
          },
          "metadata": {
            "tags": [],
            "needs_background": "light"
          }
        }
      ]
    },
    {
      "cell_type": "markdown",
      "metadata": {
        "id": "rcDhockEZAmK"
      },
      "source": [
        "100cm의 큰 물고리의 샘플이 없기 때문\n",
        "\n",
        "k-최근접 이웃은 기존의 샘플에서 이웃한 평균에서 타킷값을 구하므로 최대값이 제한되는 단점이 있다.\n",
        "즉, 훈련 세트 범위를 벗어난 값을 예측하기가 어렵다\n",
        "훈련세트 범위내의 이웃한 샘플을 기준으로 예측하기 때문이다."
      ]
    },
    {
      "cell_type": "markdown",
      "metadata": {
        "id": "xoEL7IsUaDNI"
      },
      "source": [
        "**선형 회귀(linear regression)**\n",
        "\n",
        "회귀는 연속적인 타깃을 예측하는 알고리즘\n",
        "\n",
        "그 중에 선형 회귀Linear Regression가 가장 기본이다\n",
        "\n",
        "*로지스틱 회귀, 신경망 알고리즘은 선형회귀 기반으로 한 모델이다\n",
        "\n",
        "선형 회귀는 훈련 데이터에 가장 잘 들어 맞는 선형 방정식\n",
        "\n",
        "![latex.png](data:image/png;base64,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)\n",
        "\n",
        "를 찾는 문제입니다"
      ]
    },
    {
      "cell_type": "code",
      "metadata": {
        "colab": {
          "base_uri": "https://localhost:8080/"
        },
        "id": "bO2Mw76CcDr1",
        "outputId": "f03fe581-7b18-4b97-d3ff-074add2675c8"
      },
      "source": [
        "from sklearn.linear_model import  LinearRegression\n",
        "lr = LinearRegression()\n",
        "# 선형회귀 모델 훈련\n",
        "lr.fit(train_input, train_target)\n",
        "\n",
        "# 50cm 농어에 대한 예측\n",
        "print(lr.predict([[50]]))"
      ],
      "execution_count": 8,
      "outputs": [
        {
          "output_type": "stream",
          "text": [
            "[1241.83860323]\n"
          ],
          "name": "stdout"
        }
      ]
    },
    {
      "cell_type": "code",
      "metadata": {
        "colab": {
          "base_uri": "https://localhost:8080/"
        },
        "id": "cQmHYl3FcpNZ",
        "outputId": "116968ec-abb8-41d8-e1f0-247993404c9b"
      },
      "source": [
        "print(lr.coef_,lr.intercept_)#기울기와 y절편\n",
        "#학습된 모델의 속성(파라미터)은 일반 속성과 비교하기 위해 속성(파라미터) 끝에 _ "
      ],
      "execution_count": 9,
      "outputs": [
        {
          "output_type": "stream",
          "text": [
            "[39.01714496] -709.0186449535477\n"
          ],
          "name": "stdout"
        }
      ]
    },
    {
      "cell_type": "markdown",
      "metadata": {
        "id": "9tWX63l5czTZ"
      },
      "source": [
        "y= ax + b (1차 방정식)\n",
        "\n",
        "농어 무게(y) = a * 농어길이(x) + b\n",
        "a는 기울기(가중치), b는 절편(y축과 만나는 지점)\n",
        "\n",
        "LinearRegression 클래스가 구한 모델 파라미터는 가중치와 절편이 coef_와 intercept_ 인스턴스 변수에 따로 저장되어 있습니다.\n",
        "\n",
        "coef_ 가중치, 기울기는 배열형태로 반환\n",
        "특성마다 다른 기울기, 가중치의 계수를 지님으로 \n",
        "현재는 길이 특성 하나에 대한 기울기(계수)이다."
      ]
    },
    {
      "cell_type": "markdown",
      "metadata": {
        "id": "MuJFvYw_gvZU"
      },
      "source": [
        "**학습한 직선 그리기**"
      ]
    },
    {
      "cell_type": "code",
      "metadata": {
        "colab": {
          "base_uri": "https://localhost:8080/",
          "height": 265
        },
        "id": "tMGhcNCNg3Ti",
        "outputId": "1fdac6f7-e09b-4868-8852-30881d9f93a2"
      },
      "source": [
        "import matplotlib.pyplot as plt\n",
        "\n",
        "#훈련 세트의 산점도 그리기\n",
        "plt.scatter(train_input,train_target) #x축 길이, y축 무게\n",
        "\n",
        "#15에서 50까지 1차 방정식 그래프 그리기\n",
        "plt.plot([15,50],[15*lr.coef_+lr.intercept_, 50*lr.coef_+lr.intercept_])\n",
        "\n",
        "#50cm 물고기 데이터\n",
        "plt.scatter(50,1241.8, marker='*')\n",
        "plt.show()"
      ],
      "execution_count": 10,
      "outputs": [
        {
          "output_type": "display_data",
          "data": {
            "image/png": "[encoded data removed]",
            "text/plain": [
              "<Figure size 432x288 with 1 Axes>"
            ]
          },
          "metadata": {
            "tags": [],
            "needs_background": "light"
          }
        }
      ]
    },
    {
      "cell_type": "code",
      "metadata": {
        "colab": {
          "base_uri": "https://localhost:8080/"
        },
        "id": "yMAxAO24hw9e",
        "outputId": "c65bd95d-6d99-40c1-90cf-e6f0bb38eed6"
      },
      "source": [
        "print('선형회귀 훈련 세트 예측 점수 : ',lr.score(train_input,train_target))\n",
        "print('테스트 세트 예측 점수: ', lr.score(test_input,test_target))"
      ],
      "execution_count": 15,
      "outputs": [
        {
          "output_type": "stream",
          "text": [
            "선형회귀 훈련 세트 예측 점수 :  0.9398463339976039\n",
            "테스트 세트 예측 점수:  0.8247503123313558\n"
          ],
          "name": "stdout"
        }
      ]
    },
    {
      "cell_type": "markdown",
      "metadata": {
        "id": "OfkYw35Kid_d"
      },
      "source": [
        "k-최근점이웃 모델과 비교시 최소적합\n",
        "\n",
        "선형 회귀 훈련세트와 테스트 세트의 예측 점수를 비교하였을 때는 모델이 훈련 세트에 최대적합되었다 판단할 수 있다.\n",
        "\n",
        "어떤 모델이 최대적합, 최소적합 되었는 지 상대적으로 비교하기 위해 여러 모델을 실험을 통해 알아볼 수 있다.\n",
        "\n",
        "\n",
        "결과: 물고기 길이 15cm일때 무게가 음수의 결과를 예측하고 있다 \n",
        "y 절편(lr.intercept_)의 값이 음수로 나오고 있다\n",
        "\n",
        "훈련세트의 산점도를 보아도 굴곡진 2차 함수의 형태를 볼 수 있다."
      ]
    },
    {
      "cell_type": "markdown",
      "metadata": {
        "id": "d4sTmuHCj2mF"
      },
      "source": [
        "**다항 회귀**\n",
        "\n",
        "이차방정식 (다항식)\n",
        "y = ax^2 + bx + c\n",
        "\n",
        "무게 = a 길이^2 + b 길이 + c\n",
        "\n",
        "길이 제곱을 한 2차원 배열 추가하여 열이 2개인 2차원 배열로 만들어 훈련 세트로 만든다\n"
      ]
    },
    {
      "cell_type": "code",
      "metadata": {
        "id": "zqwR1BI1aojQ"
      },
      "source": [
        "train_poly = np.column_stack((train_input ** 2, train_input))\n",
        "test_poly= np.column_stack((test_input ** 2, test_input))"
      ],
      "execution_count": 12,
      "outputs": []
    },
    {
      "cell_type": "code",
      "metadata": {
        "colab": {
          "base_uri": "https://localhost:8080/"
        },
        "id": "l284Dzu-a6ob",
        "outputId": "4b6ba8e1-7a16-4538-a430-b29815a101fa"
      },
      "source": [
        "lr=LinearRegression()\n",
        "lr.fit(train_poly,train_target)\n",
        "print(lr.predict([[50 **2 , 50]]))"
      ],
      "execution_count": 13,
      "outputs": [
        {
          "output_type": "stream",
          "text": [
            "[1573.98423528]\n"
          ],
          "name": "stdout"
        }
      ]
    },
    {
      "cell_type": "code",
      "metadata": {
        "colab": {
          "base_uri": "https://localhost:8080/"
        },
        "id": "bBW1nk9vbk53",
        "outputId": "72297df2-901b-4a13-9fcc-35f4b98f0d44"
      },
      "source": [
        "print(lr.coef_,lr.intercept_)"
      ],
      "execution_count": 14,
      "outputs": [
        {
          "output_type": "stream",
          "text": [
            "[  1.01433211 -21.55792498] 116.05021078278276\n"
          ],
          "name": "stdout"
        }
      ]
    },
    {
      "cell_type": "markdown",
      "metadata": {
        "id": "6NPmGdnsby5b"
      },
      "source": [
        "y= 1.01x^2 -21.6x + 116.05 의 2차 함수를 훈련한 모델"
      ]
    },
    {
      "cell_type": "code",
      "metadata": {
        "colab": {
          "base_uri": "https://localhost:8080/",
          "height": 279
        },
        "id": "38Qcepnmc8M9",
        "outputId": "84401a3c-bf35-4d2f-c005-aa6f03c9b4da"
      },
      "source": [
        "# 구간별 직선을 그리기 위해 15에서 49까지 정수 배열을 만듭니다\n",
        "point = np.arange(15, 50)\n",
        "# 훈련 세트의 산점도를 그립니다\n",
        "plt.scatter(train_input, train_target)\n",
        "# 15에서 49까지 2차 방정식 그래프를 그립니다\n",
        "plt.plot(point, 1.01*point**2 - 21.6*point + 116.05)\n",
        "# 50cm 농어 데이터\n",
        "plt.scatter([50], [1574], marker='^')\n",
        "plt.xlabel('length')\n",
        "plt.ylabel('weight')\n",
        "plt.show()"
      ],
      "execution_count": 15,
      "outputs": [
        {
          "output_type": "display_data",
          "data": {
            "image/png": "[encoded data removed]",
            "text/plain": [
              "<Figure size 432x288 with 1 Axes>"
            ]
          },
          "metadata": {
            "tags": [],
            "needs_background": "light"
          }
        }
      ]
    },
    {
      "cell_type": "code",
      "metadata": {
        "colab": {
          "base_uri": "https://localhost:8080/"
        },
        "id": "KeBEvVnac9bK",
        "outputId": "e356e573-2779-4ad7-db6a-e73e843cd4ff"
      },
      "source": [
        "print('다항 회귀 훈련 세트 점수: ',lr.score(train_poly,train_target))\n",
        "print('다항 회귀 테스트 세트 점수: ',lr.score(test_poly,test_target))"
      ],
      "execution_count": 16,
      "outputs": [
        {
          "output_type": "stream",
          "text": [
            "다항 회귀 훈련 세트 점수:  0.9706807451768623\n",
            "다항 회귀 테스트 세트 점수:  0.9775935108325122\n"
          ],
          "name": "stdout"
        }
      ]
    }
  ]
}