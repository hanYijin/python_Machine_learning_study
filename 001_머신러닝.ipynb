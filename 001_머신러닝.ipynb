{
  "nbformat": 4,
  "nbformat_minor": 0,
  "metadata": {
    "colab": {
      "name": "001_머신러닝.ipynb",
      "provenance": [],
      "collapsed_sections": [],
      "toc_visible": true,
      "authorship_tag": "ABX9TyNiIIxYG9JXEwCd5ERIhrNQ",
      "include_colab_link": true
    },
    "kernelspec": {
      "name": "python3",
      "display_name": "Python 3"
    },
    "language_info": {
      "name": "python"
    }
  },
  "cells": [
    {
      "cell_type": "markdown",
      "metadata": {
        "id": "view-in-github",
        "colab_type": "text"
      },
      "source": [
        "<a href=\"https://colab.research.google.com/github/hanYijin/python_study/blob/main/001_%EB%A8%B8%EC%8B%A0%EB%9F%AC%EB%8B%9D.ipynb\" target=\"_parent\"><img src=\"https://colab.research.google.com/assets/colab-badge.svg\" alt=\"Open In Colab\"/></a>"
      ]
    },
    {
      "cell_type": "code",
      "metadata": {
        "id": "8oylDQk5m13f"
      },
      "source": [
        ""
      ],
      "execution_count": null,
      "outputs": []
    },
    {
      "cell_type": "markdown",
      "metadata": {
        "id": "bdO73StsnRGo"
      },
      "source": [
        "머신러닝을 한다 = 머신러닝 프로그램을 만든다.\n",
        "일반적인 프로그램은 누군가 정해진 규칙을 프로그램에 작성\n",
        "머신러닝 프로그램은 프로그램을 제작해서 데이터에서 규칙을 찾는것\n",
        "데이터에서 패턴(규칙)을 찾는 과정이 학습\n",
        "\n",
        "<첫번째 머신러닝 프로그램>\n",
        "\n",
        "2개의 클래스(class)\n",
        "분류(classification)\n",
        "이진 분류(binary classification)\n",
        "\n"
      ]
    },
    {
      "cell_type": "markdown",
      "metadata": {
        "id": "cjcKPQ7Nq0Zo"
      },
      "source": [
        "생선 도미의 샘플(인공지능에서의 데이터를 샘플라 함)"
      ]
    },
    {
      "cell_type": "code",
      "metadata": {
        "id": "fTbq3TRbqvNE"
      },
      "source": [
        "bream_length = [25.4, 26.3, 26.5, 29.0, 29.0, 29.7, 29.7, 30.0, 30.0, 30.7, 31.0, 31.0, 31.5, 32.0, 32.0, 32.0, 33.0, 33.0, 33.5, 33.5, 34.0, 34.0, 34.5, 35.0, 35.0, 35.0, 35.0, 36.0, 36.0, 37.0, 38.5, 38.5, 39.5, 41.0, 41.0]\n",
        "bream_weight = [242.0, 290.0, 340.0, 363.0, 430.0, 450.0, 500.0, 390.0, 450.0, 500.0, 475.0, 500.0, 500.0, 340.0, 600.0, 600.0, 700.0, 700.0, 610.0, 650.0, 575.0, 685.0, 620.0, 680.0, 700.0, 725.0, 720.0, 714.0, 850.0, 1000.0, 920.0, 955.0, 925.0, 975.0, 950.0]"
      ],
      "execution_count": 2,
      "outputs": []
    },
    {
      "cell_type": "code",
      "metadata": {
        "colab": {
          "base_uri": "https://localhost:8080/",
          "height": 279
        },
        "id": "-8UtMy0KrJvH",
        "outputId": "1843d523-2c23-46a7-9364-16f0b80eb6b0"
      },
      "source": [
        "import matplotlib.pyplot as plt\n",
        "\n",
        "plt.scatter(bream_length, bream_weight)\n",
        "plt.xlabel('length')\n",
        "plt.ylabel('weight')\n",
        "plt.show()"
      ],
      "execution_count": 3,
      "outputs": [
        {
          "output_type": "display_data",
          "data": {
            "image/png": "[encoded data removed]",
            "text/plain": [
              "<Figure size 432x288 with 1 Axes>"
            ]
          },
          "metadata": {
            "tags": [],
            "needs_background": "light"
          }
        }
      ]
    },
    {
      "cell_type": "markdown",
      "metadata": {
        "id": "j95ReB5VrUpC"
      },
      "source": [
        "산점도(scatter plot)\n",
        "두개의 특성을 잘 표현할 수 있는 그래프\n",
        "x(무게), y(길이)축 각각의 특성을 놓고 각 샘플을 하나의 점으로 표현\n",
        "\n",
        "import matplotlib 라이브러리는 파이썬의 대표적인 데이터 시각화 그래프 "
      ]
    },
    {
      "cell_type": "code",
      "metadata": {
        "id": "q6acgbVRtFVf"
      },
      "source": [
        "smelt_length = [9.8, 10.5, 10.6, 11.0, 11.2, 11.3, 11.8, 11.8, 12.0, 12.2, 12.4, 13.0, 14.3, 15.0]\n",
        "smelt_weight = [6.7, 7.5, 7.0, 9.7, 9.8, 8.7, 10.0, 9.9, 9.8, 12.2, 13.4, 12.2, 19.7, 19.9]"
      ],
      "execution_count": 4,
      "outputs": []
    },
    {
      "cell_type": "code",
      "metadata": {
        "colab": {
          "base_uri": "https://localhost:8080/",
          "height": 279
        },
        "id": "MOMlLlTMtH5e",
        "outputId": "e3d67661-627b-45ba-b974-4cdf153be7c2"
      },
      "source": [
        "plt.scatter(bream_length, bream_weight)\n",
        "plt.scatter(smelt_length, smelt_weight)\n",
        "plt.xlabel('length')\n",
        "plt.ylabel('weight')\n",
        "plt.show()"
      ],
      "execution_count": 5,
      "outputs": [
        {
          "output_type": "display_data",
          "data": {
            "image/png": "[encoded data removed]",
            "text/plain": [
              "<Figure size 432x288 with 1 Axes>"
            ]
          },
          "metadata": {
            "tags": [],
            "needs_background": "light"
          }
        }
      ]
    },
    {
      "cell_type": "markdown",
      "metadata": {
        "id": "MLmhNZjhtbhk"
      },
      "source": [
        "도미 데이터의 길이 + 빙어 데이터의 길이\n",
        "도미 데이터의 높이 + 빙어 데이터의 높이"
      ]
    },
    {
      "cell_type": "code",
      "metadata": {
        "id": "7e3xdsZCtLTc"
      },
      "source": [
        "length = bream_length+smelt_length\n",
        "weight = bream_weight+smelt_weight"
      ],
      "execution_count": 7,
      "outputs": []
    },
    {
      "cell_type": "markdown",
      "metadata": {
        "id": "I5tOGQDFt03T"
      },
      "source": [
        "사이킷런이 기대하는 데이터 (샘플) 형태 [[길이, 높이]]\n",
        "의 '2차원 배열'"
      ]
    },
    {
      "cell_type": "code",
      "metadata": {
        "colab": {
          "base_uri": "https://localhost:8080/"
        },
        "id": "93_uPH3AtauI",
        "outputId": "dc0ce061-67af-41eb-f88e-d74aa9997ce6"
      },
      "source": [
        "# 리스트 내포\n",
        "fish_data = [[l, w] for l, w in zip(length, weight)]\n",
        "print(fish_data)"
      ],
      "execution_count": 8,
      "outputs": [
        {
          "output_type": "stream",
          "text": [
            "[[25.4, 242.0], [26.3, 290.0], [26.5, 340.0], [29.0, 363.0], [29.0, 430.0], [29.7, 450.0], [29.7, 500.0], [30.0, 390.0], [30.0, 450.0], [30.7, 500.0], [31.0, 475.0], [31.0, 500.0], [31.5, 500.0], [32.0, 340.0], [32.0, 600.0], [32.0, 600.0], [33.0, 700.0], [33.0, 700.0], [33.5, 610.0], [33.5, 650.0], [34.0, 575.0], [34.0, 685.0], [34.5, 620.0], [35.0, 680.0], [35.0, 700.0], [35.0, 725.0], [35.0, 720.0], [36.0, 714.0], [36.0, 850.0], [37.0, 1000.0], [38.5, 920.0], [38.5, 955.0], [39.5, 925.0], [41.0, 975.0], [41.0, 950.0], [9.8, 6.7], [10.5, 7.5], [10.6, 7.0], [11.0, 9.7], [11.2, 9.8], [11.3, 8.7], [11.8, 10.0], [11.8, 9.9], [12.0, 9.8], [12.2, 12.2], [12.4, 13.4], [13.0, 12.2], [14.3, 19.7], [15.0, 19.9]]\n"
          ],
          "name": "stdout"
        }
      ]
    },
    {
      "cell_type": "markdown",
      "metadata": {
        "id": "ccuwDOZJukrL"
      },
      "source": [
        "머신러닝의 지도학습을 위한 정답 데이터 준비\n",
        "1 = 도미, 0 = 빙어\n",
        "정답을 주어 학습 데이터가 무엇인지 구분하고 규칙을 찾을 수 있도록 한다\n",
        "이를 머신러닝의 지도학습 이다."
      ]
    },
    {
      "cell_type": "code",
      "metadata": {
        "colab": {
          "base_uri": "https://localhost:8080/"
        },
        "id": "3Ir54caqujUw",
        "outputId": "02642c3a-98af-47fb-9053-97b0bc3ba706"
      },
      "source": [
        "fish_target = [1]*35 + [0]*14\n",
        "print(fish_target)"
      ],
      "execution_count": 9,
      "outputs": [
        {
          "output_type": "stream",
          "text": [
            "[1, 1, 1, 1, 1, 1, 1, 1, 1, 1, 1, 1, 1, 1, 1, 1, 1, 1, 1, 1, 1, 1, 1, 1, 1, 1, 1, 1, 1, 1, 1, 1, 1, 1, 1, 0, 0, 0, 0, 0, 0, 0, 0, 0, 0, 0, 0, 0, 0]\n"
          ],
          "name": "stdout"
        }
      ]
    },
    {
      "cell_type": "markdown",
      "metadata": {
        "id": "F_PZkfh8vVaY"
      },
      "source": [
        "KNN(k-최근접 이웃) 알고리즘\n",
        "from sklearn.neighbors import KNeighborsClassifier"
      ]
    },
    {
      "cell_type": "code",
      "metadata": {
        "colab": {
          "base_uri": "https://localhost:8080/"
        },
        "id": "mAogmpwcvfIe",
        "outputId": "23090545-0b08-4ecf-9292-5e4db86e4940"
      },
      "source": [
        "from sklearn.neighbors import KNeighborsClassifier\n",
        "kn = KNeighborsClassifier() #모델 객체 생성\n",
        "kn.fit(fish_data, fish_target) # 휸련\n",
        "kn.score(fish_data, fish_target)# 예측 점수(0~1) 정확도"
      ],
      "execution_count": 10,
      "outputs": [
        {
          "output_type": "execute_result",
          "data": {
            "text/plain": [
              "1.0"
            ]
          },
          "metadata": {
            "tags": []
          },
          "execution_count": 10
        }
      ]
    },
    {
      "cell_type": "markdown",
      "metadata": {
        "id": "YAufHjRGxQlN"
      },
      "source": [
        "1.0 =100% 의 정확도"
      ]
    },
    {
      "cell_type": "markdown",
      "metadata": {
        "id": "M7HGYwbnxsFo"
      },
      "source": [
        "훈련데이터를 통해 만들어진 모델을 가지고 새로운 데이터(생선)를 예측 수행\n",
        "kn.predict() 메소드 사용하여 예측"
      ]
    },
    {
      "cell_type": "code",
      "metadata": {
        "colab": {
          "base_uri": "https://localhost:8080/",
          "height": 279
        },
        "id": "qoELTNy7x6pR",
        "outputId": "c252cc7c-8edb-4be6-bf3b-cc9734b79594"
      },
      "source": [
        "plt.scatter(bream_length, bream_weight)\n",
        "plt.scatter(smelt_length, smelt_weight)\n",
        "plt.scatter(30, 600, marker='^')\n",
        "plt.xlabel('length')\n",
        "plt.ylabel('weight')\n",
        "plt.show()"
      ],
      "execution_count": 11,
      "outputs": [
        {
          "output_type": "display_data",
          "data": {
            "image/png": "[encoded data removed]",
            "text/plain": [
              "<Figure size 432x288 with 1 Axes>"
            ]
          },
          "metadata": {
            "tags": [],
            "needs_background": "light"
          }
        }
      ]
    },
    {
      "cell_type": "code",
      "metadata": {
        "colab": {
          "base_uri": "https://localhost:8080/"
        },
        "id": "w5ZjvMVqyI-7",
        "outputId": "81c96aa6-d243-48de-8209-57b49e948457"
      },
      "source": [
        "kn.predict([[30, 600]]) #예측할 데이터 샘플 역시 2차원 배열로 "
      ],
      "execution_count": 12,
      "outputs": [
        {
          "output_type": "execute_result",
          "data": {
            "text/plain": [
              "array([1])"
            ]
          },
          "metadata": {
            "tags": []
          },
          "execution_count": 12
        }
      ]
    },
    {
      "cell_type": "markdown",
      "metadata": {
        "id": "wXK8P1MByxNh"
      },
      "source": [
        "예측 결과 array([1]) = '도미'\n",
        "knn(k-최근접 이웃)알고리즘은 주변의 데이터 샘플들을 보고 샘플이 어떤 클래스에 속하였는 지 판단하여 데이터를 분류한다\n",
        "n_neighbors의 값은 기본 '5' 즉, 5개의 데이터를 기준으로 데이터를 분류\n",
        "n_neighbors의 매개변수 값을 변경하여 주위 샘플 개수를 바꿈"
      ]
    },
    {
      "cell_type": "markdown",
      "metadata": {
        "id": "p0O5ZMrC1Y0R"
      },
      "source": [
        "지도학습과 비지도 학습\n",
        "지도학습\n",
        "입력 데이터와 타깃 데이터가 존재하는 데이터를 사용하여 학습하는 알고리즘을 지도학습이라고 한다"
      ]
    },
    {
      "cell_type": "markdown",
      "metadata": {
        "id": "7XcOGfvo9DxD"
      },
      "source": [
        "훈련된 데이터를 평가하기 위해 데이터셋을 훈련데이터와 테스트 데이터로 분류\n",
        "\n",
        "인공지능 모델을 구축하면 실제 상황에 적용하기 전에 성능평가를 진행해야한다. 이때 훈련데이터 세트로 학습된 모델을 다시 훈련 데이터세트로 평가하면 높은 성능이 나올 것이다. 그 모델에는 이미 훈련데이터 셋에 맞는 규칙이 반영되었기 때문이다.\n",
        "\n",
        "훈련용 데이터와 성능평가용 데이터로 나눈 후 성능평가 단계에서는 모델 학습에 이용하지 않은 성능평가용 데이터를 사용한다. 이때 훈련용 데이터를 훈련세트(training set), 성능평가용 데이터를 테스트세트(test set)이라고 한다."
      ]
    },
    {
      "cell_type": "markdown",
      "metadata": {
        "id": "wJCqn071-xcK"
      },
      "source": [
        "데이터 섞기 \n",
        "numpy 라이브러리를 이용하여 배열 인덱스 랜덤하게 입력과 타깃 데이터를 적절하게 섞는다."
      ]
    },
    {
      "cell_type": "code",
      "metadata": {
        "colab": {
          "base_uri": "https://localhost:8080/"
        },
        "id": "HwuSmfge_GRC",
        "outputId": "a748ca50-cfc4-457b-da18-e61457baba4f"
      },
      "source": [
        "import numpy as np\n",
        "input_arr = np.array(fish_data) #2차원 배열의 입력 데이터\n",
        "target_arr = np.array(fish_target)\n",
        "print(input_arr.shape)"
      ],
      "execution_count": 14,
      "outputs": [
        {
          "output_type": "stream",
          "text": [
            "(49, 2)\n"
          ],
          "name": "stdout"
        }
      ]
    },
    {
      "cell_type": "code",
      "metadata": {
        "id": "LQbz2hnJ_VaA"
      },
      "source": [
        "#배열 인덱싱을 이용한 데이터 랜덤하게 섞기\n",
        "#배열 슬라이싱으로 훈련 데이터와 테스트 데이터 분류\n",
        "np.random.seed(42)\n",
        "index = np.arange(49)\n",
        "np.random.shuffle(index)"
      ],
      "execution_count": 17,
      "outputs": []
    },
    {
      "cell_type": "code",
      "metadata": {
        "colab": {
          "base_uri": "https://localhost:8080/"
        },
        "id": "-sDzX82T_fVw",
        "outputId": "be78503a-8f1f-4933-e0e2-b4849bfa58b1"
      },
      "source": [
        "train_input = input_arr[index[:35]]\n",
        "train_target = target_arr[index[:35]]\n",
        "\n",
        "test_input = input_arr[index[35:]]\n",
        "test_target = target_arr[index[35:]]\n",
        "\n",
        "print(train_input.shape, train_target.shape)\n",
        "print(test_input.shape, test_target.shape)\n"
      ],
      "execution_count": 19,
      "outputs": [
        {
          "output_type": "stream",
          "text": [
            "(35, 2) (35,)\n",
            "(14, 2) (14,)\n"
          ],
          "name": "stdout"
        }
      ]
    },
    {
      "cell_type": "code",
      "metadata": {
        "colab": {
          "base_uri": "https://localhost:8080/",
          "height": 279
        },
        "id": "kY42UWIlBrZy",
        "outputId": "9b912fcb-b860-45ff-cb5f-f64cf8d32197"
      },
      "source": [
        "import matplotlib.pyplot as plt\n",
        "\n",
        "plt.scatter(train_input[:, 0], train_input[:, 1])\n",
        "plt.scatter(test_input[:, 0], test_input[:, 1])\n",
        "plt.xlabel('length')\n",
        "plt.ylabel('weight')\n",
        "plt.show()"
      ],
      "execution_count": 20,
      "outputs": [
        {
          "output_type": "display_data",
          "data": {
            "image/png": "[encoded data removed]",
            "text/plain": [
              "<Figure size 432x288 with 1 Axes>"
            ]
          },
          "metadata": {
            "tags": [],
            "needs_background": "light"
          }
        }
      ]
    },
    {
      "cell_type": "code",
      "metadata": {
        "colab": {
          "base_uri": "https://localhost:8080/"
        },
        "id": "82B7jMAsB3j9",
        "outputId": "30462cc7-1930-41cd-d247-4d96c18b16fd"
      },
      "source": [
        "kn=kn.fit(train_input,train_target)\n",
        "kn.score(test_input,test_target)"
      ],
      "execution_count": 21,
      "outputs": [
        {
          "output_type": "execute_result",
          "data": {
            "text/plain": [
              "1.0"
            ]
          },
          "metadata": {
            "tags": []
          },
          "execution_count": 21
        }
      ]
    },
    {
      "cell_type": "code",
      "metadata": {
        "colab": {
          "base_uri": "https://localhost:8080/"
        },
        "id": "dtPeX9UTCFNL",
        "outputId": "f434a70e-bf92-4ca9-d6ba-c58fbfc85cb9"
      },
      "source": [
        "kn.predict(test_input)\n"
      ],
      "execution_count": 22,
      "outputs": [
        {
          "output_type": "execute_result",
          "data": {
            "text/plain": [
              "array([0, 0, 1, 0, 1, 1, 1, 0, 1, 1, 0, 1, 1, 0])"
            ]
          },
          "metadata": {
            "tags": []
          },
          "execution_count": 22
        }
      ]
    },
    {
      "cell_type": "code",
      "metadata": {
        "colab": {
          "base_uri": "https://localhost:8080/"
        },
        "id": "Djo2edDgCJZa",
        "outputId": "0ba78d74-3e8d-4980-b9d6-4557fb7977f1"
      },
      "source": [
        "test_target"
      ],
      "execution_count": 23,
      "outputs": [
        {
          "output_type": "execute_result",
          "data": {
            "text/plain": [
              "array([0, 0, 1, 0, 1, 1, 1, 0, 1, 1, 0, 1, 1, 0])"
            ]
          },
          "metadata": {
            "tags": []
          },
          "execution_count": 23
        }
      ]
    },
    {
      "cell_type": "markdown",
      "metadata": {
        "id": "KkTbuXgXEhgM"
      },
      "source": [
        "**정교한 결과 도출을 위한 데이터 전처리** \n",
        "넘파이로 데이터 준비"
      ]
    },
    {
      "cell_type": "code",
      "metadata": {
        "id": "t2E9wnpME3z1"
      },
      "source": [
        "fish_length = [25.4, 26.3, 26.5, 29.0, 29.0, 29.7, 29.7, 30.0, 30.0, 30.7, 31.0, 31.0, \n",
        "                31.5, 32.0, 32.0, 32.0, 33.0, 33.0, 33.5, 33.5, 34.0, 34.0, 34.5, 35.0, \n",
        "                35.0, 35.0, 35.0, 36.0, 36.0, 37.0, 38.5, 38.5, 39.5, 41.0, 41.0, 9.8, \n",
        "                10.5, 10.6, 11.0, 11.2, 11.3, 11.8, 11.8, 12.0, 12.2, 12.4, 13.0, 14.3, 15.0]\n",
        "fish_weight = [242.0, 290.0, 340.0, 363.0, 430.0, 450.0, 500.0, 390.0, 450.0, 500.0, 475.0, 500.0, \n",
        "                500.0, 340.0, 600.0, 600.0, 700.0, 700.0, 610.0, 650.0, 575.0, 685.0, 620.0, 680.0, \n",
        "                700.0, 725.0, 720.0, 714.0, 850.0, 1000.0, 920.0, 955.0, 925.0, 975.0, 950.0, 6.7, \n",
        "                7.5, 7.0, 9.7, 9.8, 8.7, 10.0, 9.9, 9.8, 12.2, 13.4, 12.2, 19.7, 19.9]"
      ],
      "execution_count": 24,
      "outputs": []
    },
    {
      "cell_type": "code",
      "metadata": {
        "colab": {
          "base_uri": "https://localhost:8080/"
        },
        "id": "qERmQV86E4tI",
        "outputId": "52f77b54-ce60-43c4-8e64-cf9f3709af98"
      },
      "source": [
        "fish_data=np.column_stack((fish_length, fish_weight))\n",
        "print(fish_data[:5])"
      ],
      "execution_count": 25,
      "outputs": [
        {
          "output_type": "stream",
          "text": [
            "[[ 25.4 242. ]\n",
            " [ 26.3 290. ]\n",
            " [ 26.5 340. ]\n",
            " [ 29.  363. ]\n",
            " [ 29.  430. ]]\n"
          ],
          "name": "stdout"
        }
      ]
    },
    {
      "cell_type": "code",
      "metadata": {
        "colab": {
          "base_uri": "https://localhost:8080/"
        },
        "id": "1oNNlSNpFRQL",
        "outputId": "181ca20c-3b80-436d-b8f9-273e516210f3"
      },
      "source": [
        "fish_target = np.concatenate((np.ones(35),np.zeros(14)))\n",
        "print(fish_target)"
      ],
      "execution_count": 28,
      "outputs": [
        {
          "output_type": "stream",
          "text": [
            "[1. 1. 1. 1. 1. 1. 1. 1. 1. 1. 1. 1. 1. 1. 1. 1. 1. 1. 1. 1. 1. 1. 1. 1.\n",
            " 1. 1. 1. 1. 1. 1. 1. 1. 1. 1. 1. 0. 0. 0. 0. 0. 0. 0. 0. 0. 0. 0. 0. 0.\n",
            " 0.]\n"
          ],
          "name": "stdout"
        }
      ]
    },
    {
      "cell_type": "markdown",
      "metadata": {
        "id": "dzbq2dh1FxuL"
      },
      "source": [
        "사이킷런으로 데이터 나누기\n",
        "train_test_split으로 훈련 데이터와 데스트 데이터를 나눈다."
      ]
    },
    {
      "cell_type": "markdown",
      "metadata": {
        "id": "60CvmieSGS2i"
      },
      "source": [
        "**사이킷런으로 훈련 세트와 테스트 세트 나누기**"
      ]
    },
    {
      "cell_type": "code",
      "metadata": {
        "id": "Azs5L-4wGWD1"
      },
      "source": [
        "from sklearn.model_selection import train_test_split\n",
        "train_input, test_input, train_target, test_target = train_test_split(\n",
        "    fish_data, fish_target,stratify=fish_target, random_state=42)"
      ],
      "execution_count": 29,
      "outputs": []
    },
    {
      "cell_type": "markdown",
      "metadata": {
        "id": "kFiVLdm9HomH"
      },
      "source": [
        "Stratified sampling은 Random sampling과는 다른 샘플링 방식이다. Stratified sampling는 훈련데이터를 나눌 때 무작위로 샘플링을 하되, original dataset의 클래스 비율이 train, test set에서도 동일하게 유지되는 것을 보장한다는 점이 Random sampling과의 차이점이다. \n",
        "\n",
        "분류문제에서는 이 비율이 유지되는 것이 굉장히 중요한데, \n",
        "original dataset에서 특정 클래스 비율이 불균형한 경우 \n",
        "**stratify 매개변수에 타깃 데이터를 지정하여 호출하면 (어떠한 통계적 기법을 통해서) 이 비율이 유지될 수 있도록 샘플링한다. **"
      ]
    },
    {
      "cell_type": "code",
      "metadata": {
        "colab": {
          "base_uri": "https://localhost:8080/"
        },
        "id": "_iimsmstJETF",
        "outputId": "0ffeec20-cd21-4d98-cbf1-d258d44c43ce"
      },
      "source": [
        "from sklearn.neighbors import KNeighborsClassifier\n",
        "\n",
        "kn = KNeighborsClassifier()\n",
        "kn.fit(train_input, train_target)\n",
        "kn.score(test_input, test_target)\n",
        "print(kn.predict([[25, 150]])) #빙어라는 결과가 나옴"
      ],
      "execution_count": 31,
      "outputs": [
        {
          "output_type": "stream",
          "text": [
            "[0.]\n"
          ],
          "name": "stdout"
        }
      ]
    },
    {
      "cell_type": "code",
      "metadata": {
        "colab": {
          "base_uri": "https://localhost:8080/",
          "height": 279
        },
        "id": "GMh5qfrdJQLT",
        "outputId": "4cdd0ee3-7fd4-4c6b-ce75-ae2f3a2f83d5"
      },
      "source": [
        "plt.scatter(train_input[:,0], train_input[:,1])\n",
        "plt.scatter(25, 150, marker='^')\n",
        "plt.xlabel('length')\n",
        "plt.ylabel('weight')\n",
        "plt.show()"
      ],
      "execution_count": 32,
      "outputs": [
        {
          "output_type": "display_data",
          "data": {
            "image/png": "[encoded data removed]",
            "text/plain": [
              "<Figure size 432x288 with 1 Axes>"
            ]
          },
          "metadata": {
            "tags": [],
            "needs_background": "light"
          }
        }
      ]
    },
    {
      "cell_type": "code",
      "metadata": {
        "id": "etpq1A05JTbX"
      },
      "source": [
        "distances, indexes = kn.kneighbors([[25, 150]]) # 기본 5개의 가장 가까운 샘플과의 거리와 인덱스를 반환"
      ],
      "execution_count": 33,
      "outputs": []
    },
    {
      "cell_type": "code",
      "metadata": {
        "colab": {
          "base_uri": "https://localhost:8080/",
          "height": 279
        },
        "id": "x5l12qxXJl8-",
        "outputId": "735044fc-28af-470a-985d-153296e602a4"
      },
      "source": [
        "plt.scatter(train_input[:,0], train_input[:,1])\n",
        "plt.scatter(25, 150, marker='^')\n",
        "plt.scatter(train_input[indexes,0], train_input[indexes,1], marker='D') # 5개의 이웃한 샘플 표시\n",
        "plt.xlabel('length')\n",
        "plt.ylabel('weight')\n",
        "plt.show()"
      ],
      "execution_count": 34,
      "outputs": [
        {
          "output_type": "display_data",
          "data": {
            "image/png": "[encoded data removed]",
            "text/plain": [
              "<Figure size 432x288 with 1 Axes>"
            ]
          },
          "metadata": {
            "tags": [],
            "needs_background": "light"
          }
        }
      ]
    },
    {
      "cell_type": "markdown",
      "metadata": {
        "id": "_ybODx7xLnr9"
      },
      "source": [
        "기준을 맞춰라\n",
        "\n",
        "특성의 스케일(범위)가 맞지 않다면 정확한 예측이 불가\n"
      ]
    },
    {
      "cell_type": "code",
      "metadata": {
        "colab": {
          "base_uri": "https://localhost:8080/",
          "height": 279
        },
        "id": "RJYCmYyLMBaZ",
        "outputId": "be599cf2-863a-42e9-83af-04c8b67c79bd"
      },
      "source": [
        "plt.scatter(train_input[:,0], train_input[:,1])\n",
        "plt.scatter(25, 150, marker='^')\n",
        "plt.scatter(train_input[indexes,0], train_input[indexes,1], marker='D')\n",
        "plt.xlim((0, 1000))\n",
        "plt.xlabel('length')\n",
        "plt.ylabel('weight')\n",
        "plt.show()"
      ],
      "execution_count": 35,
      "outputs": [
        {
          "output_type": "display_data",
          "data": {
            "image/png": "[encoded data removed]",
            "text/plain": [
              "<Figure size 432x288 with 1 Axes>"
            ]
          },
          "metadata": {
            "tags": [],
            "needs_background": "light"
          }
        }
      ]
    },
    {
      "cell_type": "markdown",
      "metadata": {
        "id": "byvGHWBANLH7"
      },
      "source": [
        "결과\n",
        "물고기의 분류는 무게의 특성에 크게 작용한다는 것을 알 수 있다.\n",
        "\n",
        "특성의 기준을 맞추기 위해서 **표준점수로 바꾸기**\n",
        "\n",
        "z점수(표준점수):원점수가 정규 분포를 따른다고 가정하고 일정한 공식을 통해 변환한 점수\n",
        "'(자신의 원점수 - 자신이 속한 집단의 원점수 평균)/원점수 표준편차'\n",
        " Z점수의 분포는 원 집단과 동일하며, 평균은 0, 표준편차는 1이다.\n",
        " 평균이 0이기 때문에 평균 이하의 값은 음수로 표현되며 소수점이 매우 길다."
      ]
    },
    {
      "cell_type": "code",
      "metadata": {
        "colab": {
          "base_uri": "https://localhost:8080/"
        },
        "id": "cMioo1t5NxC4",
        "outputId": "68a176b7-3f9d-434d-d295-253be486f1ed"
      },
      "source": [
        "#numpy으로 표준점수 구하기\n",
        "mean= np.mean(train_input,axis=0 ) #행의 데이터 평균\n",
        "std= np.std(train_input,axis=0) \n",
        "# 즉, 각 특성별 평균과 표준편차를 구함\n",
        "print(mean,std)"
      ],
      "execution_count": 36,
      "outputs": [
        {
          "output_type": "stream",
          "text": [
            "[ 26.175      418.08888889] [ 10.21073441 321.67847023]\n"
          ],
          "name": "stdout"
        }
      ]
    },
    {
      "cell_type": "code",
      "metadata": {
        "colab": {
          "base_uri": "https://localhost:8080/"
        },
        "id": "bBDIlaFogpeT",
        "outputId": "e0cff7b3-0ed3-4161-cad3-dc1514c4a39c"
      },
      "source": [
        "train_scaled= (train_input - mean) / std\n",
        "print(train_scaled)\n",
        "print(train_scaled.shape)"
      ],
      "execution_count": 39,
      "outputs": [
        {
          "output_type": "stream",
          "text": [
            "[[ 0.37460577  0.09920189]\n",
            " [ 0.27666962 -0.17125451]\n",
            " [ 0.34522492  0.2546366 ]\n",
            " [-1.45680021 -1.27266487]\n",
            " [-1.40783213 -1.26862357]\n",
            " [-1.29030875 -1.26178444]\n",
            " [ 0.57047806  0.56550602]\n",
            " [ 0.44316107  0.2546366 ]\n",
            " [ 0.66841421  0.87637544]\n",
            " [ 0.86428651  0.87637544]\n",
            " [ 1.4519034   1.73126635]\n",
            " [ 1.20706303  1.56028817]\n",
            " [-0.07590051 -0.54740651]\n",
            " [-1.3882449  -1.26924531]\n",
            " [ 1.30499918  1.57583164]\n",
            " [ 0.34522492  0.09920189]\n",
            " [ 1.06015881  1.80898371]\n",
            " [ 0.47254192  0.2546366 ]\n",
            " [-1.53514913 -1.2763953 ]\n",
            " [ 0.01224202 -0.39818919]\n",
            " [ 0.76635036  0.82974503]\n",
            " [ 0.03182925 -0.24275448]\n",
            " [-1.52535551 -1.27794965]\n",
            " [-1.60370443 -1.27888226]\n",
            " [ 0.86428651  0.81420156]\n",
            " [-1.46659382 -1.26924531]\n",
            " [ 0.47254192  0.17691924]\n",
            " [ 0.81531843  0.6276799 ]\n",
            " [ 0.71738229  0.59659296]\n",
            " [-1.09443646 -1.2378475 ]\n",
            " [ 0.76635036  0.48778866]\n",
            " [ 0.37460577 -0.08731977]\n",
            " [-1.40783213 -1.26893444]\n",
            " [ 0.57047806  0.56550602]\n",
            " [ 0.96222266  1.34267957]\n",
            " [-1.48618105 -1.26955618]]\n",
            "(36, 2)\n"
          ],
          "name": "stdout"
        }
      ]
    },
    {
      "cell_type": "code",
      "metadata": {
        "colab": {
          "base_uri": "https://localhost:8080/",
          "height": 279
        },
        "id": "4F-kmjbPkSe7",
        "outputId": "0da36627-2a14-43e5-fa9d-ef32e2378c90"
      },
      "source": [
        "new = ([25,150]-mean)/std\n",
        "plt.scatter(train_scaled[:,0],train_scaled[:,1])\n",
        "plt.scatter(new[0],new[1],marker='^')\n",
        "plt.xlabel('length')\n",
        "plt.ylabel('weight')\n",
        "plt.show()"
      ],
      "execution_count": 40,
      "outputs": [
        {
          "output_type": "display_data",
          "data": {
            "image/png": "[encoded data removed]",
            "text/plain": [
              "<Figure size 432x288 with 1 Axes>"
            ]
          },
          "metadata": {
            "tags": [],
            "needs_background": "light"
          }
        }
      ]
    },
    {
      "cell_type": "code",
      "metadata": {
        "colab": {
          "base_uri": "https://localhost:8080/"
        },
        "id": "9Qv0aPGekubV",
        "outputId": "cac495ae-d541-4204-fc20-0f0b920e2648"
      },
      "source": [
        "kn.fit(train_scaled,train_target)\n",
        "test_scaled=(test_input - mean)/std\n",
        "print(kn.score(test_scaled,test_target))\n",
        "print(kn.predict([new]))\n"
      ],
      "execution_count": 41,
      "outputs": [
        {
          "output_type": "stream",
          "text": [
            "1.0\n",
            "[1.]\n"
          ],
          "name": "stdout"
        }
      ]
    },
    {
      "cell_type": "code",
      "metadata": {
        "colab": {
          "base_uri": "https://localhost:8080/",
          "height": 279
        },
        "id": "NtvpaUjtlXWr",
        "outputId": "360ce4c2-2718-4275-9dc3-5d83d45e9739"
      },
      "source": [
        "distances, indexes= kn.kneighbors([new]) \n",
        "plt.scatter(train_scaled[:,0],train_scaled[:,1])\n",
        "plt.scatter(new[0],new[1],marker='^')\n",
        "plt.scatter(train_scaled[indexes,0],train_scaled[indexes,1],marker='D')\n",
        "plt.xlabel('length')\n",
        "plt.ylabel('weight')\n",
        "plt.show()"
      ],
      "execution_count": 42,
      "outputs": [
        {
          "output_type": "display_data",
          "data": {
            "image/png": "[encoded data removed]",
            "text/plain": [
              "<Figure size 432x288 with 1 Axes>"
            ]
          },
          "metadata": {
            "tags": [],
            "needs_background": "light"
          }
        }
      ]
    },
    {
      "cell_type": "code",
      "metadata": {
        "id": "ftwxx8A0o2dc"
      },
      "source": [
        "from google.colab import drive\n",
        "drive.mount('/content/drive')"
      ],
      "execution_count": null,
      "outputs": []
    }
  ]
}