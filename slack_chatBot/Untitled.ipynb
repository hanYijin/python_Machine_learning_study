{
 "cells": [
  {
   "cell_type": "code",
   "execution_count": 38,
   "id": "damaged-distinction",
   "metadata": {},
   "outputs": [
    {
     "name": "stdout",
     "output_type": "stream",
     "text": [
      "ERROR: not_authed\n"
     ]
    }
   ],
   "source": [
    "# 생성한 슬랙 handler 불러오기\n",
    "from handler import slack_handler\n",
    "\n",
    "# 메인 함수}\n",
    "if __name__ == \"__main__\":\n",
    "\tslack_handler.post_slack_message(message=\"Hello, World!\", channel=\"#일반\")"
   ]
  },
  {
   "cell_type": "code",
   "execution_count": 39,
   "id": "formal-thirty",
   "metadata": {},
   "outputs": [],
   "source": [
    "from waitress import serve"
   ]
  },
  {
   "cell_type": "code",
   "execution_count": 40,
   "id": "neither-cleaner",
   "metadata": {},
   "outputs": [],
   "source": [
    "import json\n",
    "\n",
    "# pip install Flask\n",
    "from flask import Flask, request, make_response\n",
    "\n",
    "from handler import slack_handler\n",
    "\n",
    "# 플라스크 인스턴스 생성 \n",
    "app = Flask(__name__)\n",
    "\n",
    "@app.route('/', methods=['POST'])\n",
    "def default_listener():\n",
    "    # 슬랙에서 보낸 request 데이터를 json으로 파싱한다.\n",
    "    slack_event = json.loads(request.data)\n",
    "    print(slack_event)\n",
    "\n",
    "    # 인자 중 challenge가 있으면 해당 인자의 값을 반환한다.\n",
    "    # slack api specification. 참고:https://api.slack.com/\n",
    "    if \"challenge\" in slack_event:\n",
    "        return make_response(slack_event[\"challenge\"], 200, {\"content_type\": \"application/json\"})\n",
    "\n",
    "    # slack에서 발생한 event를 통한 request에 대한 핸들링\n",
    "    if \"event\" in slack_event:\n",
    "        event_type = slack_event[\"event\"][\"type\"]\n",
    "        # bot_mention일 경우에 대한 핸들링\n",
    "        if event_type == 'app_mention':\n",
    "            try:\n",
    "                # 멘션을 남긴 채널 읽어오기\n",
    "                channel = slack_event['event']['channel']\n",
    "                # 유저가 멘션과 함께 남긴 텍스트 읽어오기\n",
    "                user_query = slack_event['event']['blocks'][0]['elements'][0]['elements'][1]['text']\n",
    "\n",
    "                ####################################################################################\n",
    "\n",
    "                #\t\t\t\t\t\t\t\t여기에 전처리 등 추가!\t\t\t\t\t\t\t\t   #\n",
    "\n",
    "                ####################################################################################\n",
    "\n",
    "                slack_handler.post_slack_message(message=user_query, channel=channel)\n",
    "\n",
    "                # 정상적으로 완료했음에 대한 http response\n",
    "                return make_response(\"response made :)\", 200, )\n",
    "            except IndexError:\n",
    "                # 멘션은 했지만 텍스트는 남기지 않은 경우에 대한 에러.\n",
    "                # do nothing\n",
    "                pass\n",
    "        # 그 외 event에 대한 핸들링: 404 error\n",
    "        msg = f\"[{event_type}] cannot find event handler\"\n",
    "        return make_response(msg, 404, {\"X-Slack-No-Retry\": 1 })\n",
    "\n",
    "\n",
    "    # 그 외 request 핸들링: 404 error\n",
    "    return make_response(\"No Slack request events\", 404, {\"X-Slack-No-Retry\": 1 })\n",
    "\n",
    "\n"
   ]
  },
  {
   "cell_type": "code",
   "execution_count": 41,
   "id": "front-gazette",
   "metadata": {
    "scrolled": false
   },
   "outputs": [],
   "source": [
    "# set FLASK_ENV=development\n",
    "# flask run\n",
    "if __name__ == '__main__':\n",
    "#     app.run(debug=True)\n",
    "    serve(app, host=\"0.0.0.0\", port=5000)"
   ]
  },
  {
   "cell_type": "code",
   "execution_count": null,
   "id": "secret-pierre",
   "metadata": {},
   "outputs": [],
   "source": []
  },
  {
   "cell_type": "code",
   "execution_count": null,
   "id": "bulgarian-affiliate",
   "metadata": {},
   "outputs": [],
   "source": []
  },
  {
   "cell_type": "code",
   "execution_count": null,
   "id": "rough-fifth",
   "metadata": {},
   "outputs": [],
   "source": []
  }
 ],
 "metadata": {
  "kernelspec": {
   "display_name": "Python 3",
   "language": "python",
   "name": "python3"
  },
  "language_info": {
   "codemirror_mode": {
    "name": "ipython",
    "version": 3
   },
   "file_extension": ".py",
   "mimetype": "text/x-python",
   "name": "python",
   "nbconvert_exporter": "python",
   "pygments_lexer": "ipython3",
   "version": "3.8.5"
  }
 },
 "nbformat": 4,
 "nbformat_minor": 5
}
