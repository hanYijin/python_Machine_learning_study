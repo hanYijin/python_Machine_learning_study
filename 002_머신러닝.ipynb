{
  "nbformat": 4,
  "nbformat_minor": 0,
  "metadata": {
    "colab": {
      "name": "002_머신러닝.ipynb",
      "provenance": [],
      "authorship_tag": "ABX9TyOWygE1n7t4lnp0uvAYCcV8",
      "include_colab_link": true
    },
    "kernelspec": {
      "name": "python3",
      "display_name": "Python 3"
    },
    "language_info": {
      "name": "python"
    }
  },
  "cells": [
    {
      "cell_type": "markdown",
      "metadata": {
        "id": "view-in-github",
        "colab_type": "text"
      },
      "source": [
        "<a href=\"https://colab.research.google.com/github/hanYijin/python_Machine_learning_study/blob/main/002_%EB%A8%B8%EC%8B%A0%EB%9F%AC%EB%8B%9D.ipynb\" target=\"_parent\"><img src=\"https://colab.research.google.com/assets/colab-badge.svg\" alt=\"Open In Colab\"/></a>"
      ]
    },
    {
      "cell_type": "markdown",
      "metadata": {
        "id": "GKdlvPFUzJwf"
      },
      "source": [
        ""
      ]
    },
    {
      "cell_type": "markdown",
      "metadata": {
        "id": "AF3OVSZqzIPf"
      },
      "source": [
        ""
      ]
    },
    {
      "cell_type": "markdown",
      "metadata": {
        "id": "DFoCv7xWzMCE"
      },
      "source": [
        "농어의 무게를 예측하라\n",
        "종류를 구분하는 것이 아닌 임의의 숫자를 구분 '회귀(regression)\n",
        "\n",
        "이진 분류에서 타킷은 음성 클래스 (0, 빙어)과 양성 클래스(1, 도미) 레이블을 만들었다.\n",
        "\n",
        "회귀에서는 예측하는 대상이 임의의 숫자, 타깃은 무게 값(실제값)이 된다.\n",
        "\n",
        "**회귀 (Regression)**\n",
        "\n",
        "두 변수의 상관관계를 분석하는 대명사, 임의의 숫자를 예측하는 것\n",
        " \n",
        "**k-최근접 이웃 회귀**\n",
        "이웃한 샘플의 타깃 값의 평균값을 예측값이 됨"
      ]
    },
    {
      "cell_type": "code",
      "metadata": {
        "id": "sX_ADS3NvtsA"
      },
      "source": [
        "import numpy as np\n",
        "perch_length = np.array(\n",
        "    [8.4, 13.7, 15.0, 16.2, 17.4, 18.0, 18.7, 19.0, 19.6, 20.0, \n",
        "     21.0, 21.0, 21.0, 21.3, 22.0, 22.0, 22.0, 22.0, 22.0, 22.5, \n",
        "     22.5, 22.7, 23.0, 23.5, 24.0, 24.0, 24.6, 25.0, 25.6, 26.5, \n",
        "     27.3, 27.5, 27.5, 27.5, 28.0, 28.7, 30.0, 32.8, 34.5, 35.0, \n",
        "     36.5, 36.0, 37.0, 37.0, 39.0, 39.0, 39.0, 40.0, 40.0, 40.0, \n",
        "     40.0, 42.0, 43.0, 43.0, 43.5, 44.0]\n",
        "     )\n",
        "perch_weight = np.array(\n",
        "    [5.9, 32.0, 40.0, 51.5, 70.0, 100.0, 78.0, 80.0, 85.0, 85.0, \n",
        "     110.0, 115.0, 125.0, 130.0, 120.0, 120.0, 130.0, 135.0, 110.0, \n",
        "     130.0, 150.0, 145.0, 150.0, 170.0, 225.0, 145.0, 188.0, 180.0, \n",
        "     197.0, 218.0, 300.0, 260.0, 265.0, 250.0, 250.0, 300.0, 320.0, \n",
        "     514.0, 556.0, 840.0, 685.0, 700.0, 700.0, 690.0, 900.0, 650.0, \n",
        "     820.0, 850.0, 900.0, 1015.0, 820.0, 1100.0, 1000.0, 1100.0, \n",
        "     1000.0, 1000.0]\n",
        "     )"
      ],
      "execution_count": 2,
      "outputs": []
    },
    {
      "cell_type": "code",
      "metadata": {
        "colab": {
          "base_uri": "https://localhost:8080/",
          "height": 279
        },
        "id": "I49Vp7rl-YBT",
        "outputId": "fcb29502-511d-47db-c557-854d6964a66b"
      },
      "source": [
        "import matplotlib.pyplot as plt\n",
        "plt.scatter(perch_length, perch_weight)\n",
        "plt.xlabel('length')\n",
        "plt.ylabel('weight')\n",
        "plt.show()"
      ],
      "execution_count": 3,
      "outputs": [
        {
          "output_type": "display_data",
          "data": {
            "image/png": "[encoded data removed]",
            "text/plain": [
              "<Figure size 432x288 with 1 Axes>"
            ]
          },
          "metadata": {
            "tags": [],
            "needs_background": "light"
          }
        }
      ]
    },
    {
      "cell_type": "markdown",
      "metadata": {
        "id": "JvH8PfQK-R1B"
      },
      "source": [
        "y축 '무게' 타깃 값"
      ]
    },
    {
      "cell_type": "code",
      "metadata": {
        "colab": {
          "base_uri": "https://localhost:8080/"
        },
        "id": "aX2Pcf_-_C1W",
        "outputId": "204b7155-301c-4181-d030-35d4aeec0a26"
      },
      "source": [
        "from sklearn.model_selection import train_test_split\n",
        "train_input, test_input, train_target, test_target = train_test_split(\n",
        "    perch_length, perch_weight, random_state=42)\n",
        "print(train_input.shape, test_input.shape)"
      ],
      "execution_count": 4,
      "outputs": [
        {
          "output_type": "stream",
          "text": [
            "(42,) (14,)\n"
          ],
          "name": "stdout"
        }
      ]
    },
    {
      "cell_type": "markdown",
      "metadata": {
        "id": "OErPScYA_-xd"
      },
      "source": [
        "\n",
        "사이킷런의 모델은 입력 데이터(샘플)가 2차원배열이라 생각함\n",
        "행방향으로 샘플이 들어서고 열방향으로 특성이 나열된 2차원 배열로 기대함\n",
        "\n",
        "그럼므로 1차원으로 배열된 훈련데이터와 테스트데이터를 2차원 배열로 reshape을 이용하여 재배열\n",
        "\n",
        "\n"
      ]
    },
    {
      "cell_type": "code",
      "metadata": {
        "colab": {
          "base_uri": "https://localhost:8080/"
        },
        "id": "zVUYFVT0_6-H",
        "outputId": "3fb814a3-392f-473e-e9d7-a8d3e4820165"
      },
      "source": [
        "#길이 특성 하나이므로 열이 1인 2차원 배열로 재배열\n",
        "train_input = train_input.reshape(-1, 1)\n",
        "test_input = test_input.reshape(-1, 1)\n",
        "\n",
        "print(train_input.shape, test_input.shape)"
      ],
      "execution_count": 5,
      "outputs": [
        {
          "output_type": "stream",
          "text": [
            "(42, 1) (14, 1)\n"
          ],
          "name": "stdout"
        }
      ]
    },
    {
      "cell_type": "markdown",
      "metadata": {
        "id": "iysx00D7BUGE"
      },
      "source": [
        "sklearn의 모델 \n",
        "분류: ~ Classifier\n",
        "회귀: ~ Regressor"
      ]
    },
    {
      "cell_type": "code",
      "metadata": {
        "colab": {
          "base_uri": "https://localhost:8080/"
        },
        "id": "5Xag8hwyB6aR",
        "outputId": "ea9603b8-2209-42b7-d24a-8d5cc03a12d7"
      },
      "source": [
        "from sklearn.neighbors import KNeighborsRegressor\n",
        "\n",
        "knr= KNeighborsRegressor()\n",
        "# k-최근접 이웃 회귀 모델을 훈련합니다\n",
        "knr.fit(train_input, train_target)"
      ],
      "execution_count": 6,
      "outputs": [
        {
          "output_type": "execute_result",
          "data": {
            "text/plain": [
              "KNeighborsRegressor(algorithm='auto', leaf_size=30, metric='minkowski',\n",
              "                    metric_params=None, n_jobs=None, n_neighbors=5, p=2,\n",
              "                    weights='uniform')"
            ]
          },
          "metadata": {
            "tags": []
          },
          "execution_count": 6
        }
      ]
    },
    {
      "cell_type": "code",
      "metadata": {
        "colab": {
          "base_uri": "https://localhost:8080/"
        },
        "id": "nzQP0_ybCUGf",
        "outputId": "4faecc1d-d754-46dc-c0e9-98a547dbc6c6"
      },
      "source": [
        "knr.score(test_input, test_target)"
      ],
      "execution_count": 7,
      "outputs": [
        {
          "output_type": "execute_result",
          "data": {
            "text/plain": [
              "0.9928094061010639"
            ]
          },
          "metadata": {
            "tags": []
          },
          "execution_count": 7
        }
      ]
    },
    {
      "cell_type": "markdown",
      "metadata": {
        "id": "LaZcvySYCRyZ"
      },
      "source": [
        "분류 모델의 테스트 score 점수는 정확도를 예측 (퍼센트)\n",
        "회귀는 결정계수가 출력됨\n",
        "\n",
        "**결정계수  R^2(R스퀘어): 회귀 모델에서 예측의 적합도를 0고 1사이의 값으로 계산하는 것** \n",
        "![img.png](data:image/png;base64,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)\n",
        "- 타깃의 평균 정도를 예측하는 수준이라면 R^2은 0에 가까워지고, 예측이 타깃에 아주 가까워지면 1에 가까운 값이 되지 않을까?\n",
        "\n",
        "정답(타깃)값에서 얼마나 값이 떨어졌는지를 0~1사이의 수치로 나타낸 것을 이 결정계수로 볼 수 있습니다.\n",
        "\n",
        " \n",
        "회귀모형내에서 독립변수(x축)로 설명할 수 있는 종속변수(y축)의 변동 비율 \n",
        "\n",
        "결정계수가 0~1 1에 가까울수록 좋은 회귀모델임"
      ]
    },
    {
      "cell_type": "code",
      "metadata": {
        "colab": {
          "base_uri": "https://localhost:8080/"
        },
        "id": "7bMVkIlVJFGr",
        "outputId": "f6276ec8-7065-430c-8295-70eb1f5e3b98"
      },
      "source": [
        "from sklearn.metrics import mean_absolute_error\n",
        "# 테스트 세트에 대한 예측을 만듭니다\n",
        "test_prediction = knr.predict(test_input)\n",
        "# 테스트 세트에 대한 평균 절댓값 오차를 계산합니다\n",
        "mae = mean_absolute_error(test_target, test_prediction)\n",
        "print(mae)"
      ],
      "execution_count": 8,
      "outputs": [
        {
          "output_type": "stream",
          "text": [
            "19.157142857142862\n"
          ],
          "name": "stdout"
        }
      ]
    },
    {
      "cell_type": "markdown",
      "metadata": {
        "id": "vNZ2HW4JJdSP"
      },
      "source": [
        "타깃과 예측한 값 사이의 차이를 구해보면 어느정도 예측이 벗어났는지 가늠하기 좋다. \n",
        "\n",
        "사이킷런은 sklearn.metrics 패키지 아래 여러가지 측정 도구를 제공한다. 이중에서 **mean_absolute_error는 타깃과 예측의 절댓값 오차를 평균하여 반환**한다.\n",
        "\n",
        "\n",
        "결과: 농어의 무게를 모델을 통해 예측값은 타깃값과 대략(평균적으로) 19g 오차가 난다."
      ]
    },
    {
      "cell_type": "markdown",
      "metadata": {
        "id": "hxtO58t7Nt7S"
      },
      "source": [
        "**과대적합과 과소적합**"
      ]
    },
    {
      "cell_type": "code",
      "metadata": {
        "colab": {
          "base_uri": "https://localhost:8080/"
        },
        "id": "REQV1rJ6LUvK",
        "outputId": "2094e0da-f946-4067-e46a-2c4aec97cb42"
      },
      "source": [
        "print(\"훈련 데이터의 점수: \")\n",
        "print(knr.score(train_input, train_target))"
      ],
      "execution_count": 12,
      "outputs": [
        {
          "output_type": "stream",
          "text": [
            "훈련 데이터의 점수: \n",
            "0.9698823289099255\n"
          ],
          "name": "stdout"
        }
      ]
    },
    {
      "cell_type": "markdown",
      "metadata": {
        "id": "6hknGyPzOgAp"
      },
      "source": [
        "훈련 세트보다 테스트 세트의 점수가 높거나 두 점수 모두 낮은 경우: 모델이 훈련세트에 **과소적합(uderfitting)**\n",
        "즉, 모델이 너무 단순해서 훈련 세트에 적절히 훈련되지 않은 경우이다.\n",
        "훈련데이터가 전체데이터를 대표한다고 가정하기에 훈련세트를 잘 학습하는 것이 중요하다\n",
        "\n",
        "**과대적합(overfitting)** \n",
        "훈련 세트에서 점수가 좋았으나 테스트 세트에서 점수가 굉장히 나쁘다면 과대적합\n",
        "즉, 훈련 세트에서만 잘 맞는 모델이라 데스트 세트와 실전에 투입하여 새로운 샘플에 대한 예측을 만들때 잘 동작하지 않는다는 것"
      ]
    },
    {
      "cell_type": "markdown",
      "metadata": {
        "id": "hyzJixKTOf4a"
      },
      "source": [
        "우리의 모델의 경우 훈련 세트보다 테스트 세트의 점수가 높으니 과소적합이다. 이 문제를 어떻게 해결할까?\n",
        "\n",
        "모델을 조금 더 복잡하게 만들면 된다. 즉 훈련 세트에 더 잘 맞게 만들면 테스트 세트의 점수는 조금 낮아질 것이다. k-최근접 이웃 알고리즘으로 모델을 더 복잡하게 만드는 방법은 이웃의 개수 k를 줄이는 것\n",
        "\n",
        "k-최근접 이웃에서 이웃개수를 줄이면 과대적합, 이웃 개수를 늘린다면 과소적합\n",
        "\n",
        "k-최근접 이웃 알고리즘의 기본  k값은 5이다. 이를 3으로 낮춰보자.\n"
      ]
    },
    {
      "cell_type": "code",
      "metadata": {
        "colab": {
          "base_uri": "https://localhost:8080/"
        },
        "id": "KPrkqcD0QmeR",
        "outputId": "3bed389f-69f8-42ec-afc5-ce433c5fd460"
      },
      "source": [
        "knr.n_neighbors=3\n",
        "knr.fit(train_input,train_target)\n",
        "print('훈련데이터의 예측 점수: ',knr.score(train_input,train_target))\n",
        "print('테스트 데이터의 예측 점수: ',knr.score(test_input,test_target))"
      ],
      "execution_count": 13,
      "outputs": [
        {
          "output_type": "stream",
          "text": [
            "훈련데이터의 예측 점수:  0.9804899950518966\n",
            "테스트 데이터의 예측 점수:  0.974645996398761\n"
          ],
          "name": "stdout"
        }
      ]
    },
    {
      "cell_type": "markdown",
      "metadata": {
        "id": "52hOpPl4Rrbl"
      },
      "source": [
        "\n",
        "회귀 분석\n",
        "회귀는 임의의 수치를 예측하는 문제이다.\n",
        "농어의 길이를 사용해 무게를 예측하는 k-최근접 이웃 회귀 모델을 만들었다.\n",
        "분류와 동일하게 가장 먼저 가까운 k개의 이웃을 찾는다.\n",
        "그 다음 이웃 샘플의 타깃값을 평균하여 예측하고자 하는 값으로 사용한다\n",
        "\n",
        "사이킷런의 회귀모델은 점수를 R^2, 즉 결정계수 값을 반환한다.\n",
        "이 값은 1에 가까울수록 좋다\n",
        "\n",
        "훈련 세트의 점수와 테스트 세트의 점수 차이가 크면좋지 않다.\n",
        "일반적으로 훈련 세트의 점수가 조금 더 높다\n",
        "\n",
        "과대적합: 테스트 세트의 점수가 너무 낮은 현상, 모델이 훈련 세트에 과도하게 맞춰진 결과\n",
        "=> 모델을 덜 복잡하게 만들어야 함\n",
        "\n",
        "과소적합: 테스트 세트의 점수가 너무 높거나 두 점수 모두 낮을 경우 \n",
        "=> 모델의 더 복잡하게 만들어야함"
      ]
    }
  ]
}